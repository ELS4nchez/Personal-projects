{
  "nbformat": 4,
  "nbformat_minor": 0,
  "metadata": {
    "colab": {
      "provenance": []
    },
    "kernelspec": {
      "name": "python3",
      "display_name": "Python 3"
    },
    "language_info": {
      "name": "python"
    }
  },
  "cells": [
    {
      "cell_type": "markdown",
      "source": [
        "# **Tarea #3**\n",
        "\n",
        "**Integrantes:**\n",
        "\n",
        "Santiago Londoño Álvarez - CC 1000084281\n",
        "\n",
        "Juan Pablo Sanchez Arroyave - CC 1000873471"
      ],
      "metadata": {
        "id": "4-z8D3bByejX"
      }
    },
    {
      "cell_type": "markdown",
      "source": [
        "## **Objetivo**\n",
        "\n",
        "Estudiar el ángulo de Hannay.\n",
        "\n",
        "### **Objetivos generales**\n",
        "\n",
        "- Analizar la derivación del ángulo de Hannay.\n",
        "- Analizar la derivación para el caso no adiabático.\n",
        "- Discutir las aplicaciones del método."
      ],
      "metadata": {
        "id": "IAjxGTuQyufd"
      }
    },
    {
      "cell_type": "markdown",
      "source": [
        "## ***Introducción conceptual al Ángulo de Hannay***\n",
        "\n",
        "El ángulo de Hannay es una fase geométrica que surge en los sistemas hamiltonianos clásicos integrables cuando los parámetros del Hamiltoniano se varían a lo largo de un circuito cerrado en el espacio de parámetros. En el caso adiabático, los parámetros se varían lentamente en comparación con el período natural del movimiento del sistema, lo que da lugar a una variable de acción invariante $I$ y un cambio de fase en la variable de ángulo $\\theta$ que se separa en contribuciones dinámicas y geométricas. La contribución geométrica es el ángulo de Hannay $\\Delta \\theta$, que depende solo del camino en el espacio de parámetros [1-6].\n",
        "\n",
        "En el caso no adiabático, los parámetros se varían en una escala de tiempo comparable o más rápida que el período natural del sistema, por lo que la acción $I$ no se conserva necesariamente. Sin embargo, para ciertas evoluciones cíclicas donde la familia de contornos de acción (toros en el espacio fase) se transporta de vuelta a sí misma después de un tiempo $T$, se puede hacer una separación similar. El ángulo geométrico de Hannay permanece igual que en el caso adiabático, pero la contribución dinámica se modifica a una integral de la frecuencia instantánea promedio a lo largo del ciclo. Esta generalización fue derivada por M. V. Berry y J. H. Hannay en 1988, demostrando que la fase geométrica se puede extraer también en evoluciones cíclicas no adiabáticas [6-10].\n",
        "\n",
        "\n",
        "\n",
        "\n"
      ],
      "metadata": {
        "id": "r6U8_Ym3yFeW"
      }
    },
    {
      "cell_type": "markdown",
      "source": [
        "## **Derivación del Ángulo de Hannay**\n",
        "\n",
        "\n"
      ],
      "metadata": {
        "id": "8XTDV4U11x-0"
      }
    },
    {
      "cell_type": "markdown",
      "source": [
        "### ***Consideraciones importantes:***"
      ],
      "metadata": {
        "id": "saSPlmwbHPrG"
      }
    },
    {
      "cell_type": "markdown",
      "source": [
        "\n",
        "\n",
        "Consideremos un Hamiltoniano unidimensional $H(q, p, \\lambda_1, \\lambda_2)$, donde $q$ es la coordenada, $p$ el momento, y $\\lambda_1, \\lambda_2$ son los parámetros que varían lentamente. El sistema se supone integrable, con el movimiento correspondiente a trayectorias cerradas en el espacio fase. En las variables acción-ángulo, el Hamiltoniano es $H(I, \\lambda_1, \\lambda_2)$, donde $I$ es la acción (la invariante adiabática) y $\\theta$ es la variable angular. La condición adiabática requiere que los parámetros cambien a una tasa extremadamente lenta $\\tau \\gg T$, mucho más larga que el período natural del sistema $2 \\pi \\omega$, donde $\\omega = dH/dI$ es su frecuencia.\n",
        "\n",
        "\n",
        "\n",
        "\n"
      ],
      "metadata": {
        "id": "7bkKCezfHF4v"
      }
    },
    {
      "cell_type": "markdown",
      "source": [
        "### ***Variables Acción-Ángulo e Invarianza Adiabática:***\n"
      ],
      "metadata": {
        "id": "g1Y4cahiHLsU"
      }
    },
    {
      "cell_type": "markdown",
      "source": [
        "\n",
        "En un sistema integrable unidimensional, la variable de acción $I$ se define como el área encerrada por la órbita periódica en el espacio fase, normalizada por $2\\pi$:\n",
        "\n",
        "$$\n",
        "I = \\frac{1}{2\\pi} \\oint p dq\n",
        "\\tag{1}\n",
        "$$\n",
        "\n",
        "donde la integral es sobre una vuelta completa para los parámetros fijos $\\lambda_1, \\lambda_2$. La variable angular $\\theta$ es conjugada a $I$ e incrementa lentamente con el tiempo en función de los parámetros:\n",
        "\n",
        "$$\n",
        "\\omega(I, \\lambda_1, \\lambda_2) = \\frac{\\partial H}{\\partial I}\n",
        "\\tag{2}\n",
        "$$\n",
        "\n",
        "Cuando los parámetros varían según $\\lambda_1(t), \\lambda_2(t)$, las ecuaciones de movimiento en variables acción-ángulo se convierten en:\n",
        "\n",
        "$$\n",
        "\\dot{I} = - \\frac{\\partial H}{\\partial \\theta} + \\dot{\\lambda_1} \\frac{\\partial I}{\\partial \\lambda_1} + \\dot{\\lambda_2} \\frac{\\partial I}{\\partial \\lambda_2}\n",
        "\\tag{3.1}\n",
        "$$\n",
        "$$\n",
        "\\dot{\\theta} = \\frac{\\partial H}{\\partial I} + \\dot{\\lambda_1} \\frac{\\partial \\theta}{\\partial \\lambda_1} + \\dot{\\lambda_2} \\frac{\\partial \\theta}{\\partial \\lambda_2}\n",
        "\\tag{3.2}\n",
        "$$\n",
        "\n",
        "Bajo la aproximación adiabática, las oscilaciones rápidas en el movimiento nos permiten promediar sobre un período. El promedio de $\\partial H/\\partial \\theta$ es cero porque $H$ depende únicamente de $I$ en las coordenadas acción-ángulo para sistemas integrables. Así, promediando $\\langle \\cdot \\rangle$ sobre la órbita (equivalente a $(1/2\\pi) \\int_0^{2\\pi} d\\theta \\, \\cdot$) da: $\\langle \\dot{I} \\rangle = 0$.\n",
        "\n",
        "Esto confirma que $I$ es una invariante adiabática: permanece constante en el primer orden respecto al parámetro de lentitud $1/T$.\n",
        "\n",
        "Para el ángulo, la ecuación promediada es:\n",
        "\n",
        "$$\n",
        "\\langle \\dot{\\theta} \\rangle = \\frac{\\partial H}{\\partial I} + \\dot{\\lambda_1} \\left\\langle \\frac{\\partial \\theta}{\\partial \\lambda_1} \\right\\rangle + \\dot{\\lambda_2} \\left\\langle \\frac{\\partial \\theta}{\\partial \\lambda_2} \\right\\rangle.\n",
        "\\tag{4}\n",
        "$$\n",
        "\n",
        "El primer término es la contribución dinámica (la frecuencia instantánea $\\omega$), mientras que el segundo y tercer término representan la contribución geométrica debida al cambio de parámetros.\n"
      ],
      "metadata": {
        "id": "pxWp9RajHIUe"
      }
    },
    {
      "cell_type": "markdown",
      "source": [
        "### ***Acumulación Total del Ángulo a lo largo de un Circuito Cerrado:***\n"
      ],
      "metadata": {
        "id": "lKB3FpccHYx5"
      }
    },
    {
      "cell_type": "markdown",
      "source": [
        "Durante el largo tiempo $T$, el cambio total en $\\theta$ es:\n",
        "\n",
        "$$\n",
        "\\theta(T) - \\theta(0) = \\int_0^T \\omega(I; \\lambda_1(t'), \\lambda_2(t')) dt' + \\int_0^T \\left( \\dot{\\lambda_1}(t') \\left\\langle \\frac{\\partial \\theta}{\\partial \\lambda_1} \\right\\rangle + \\dot{\\lambda_2}(t') \\left\\langle \\frac{\\partial \\theta}{\\partial \\lambda_2} \\right\\rangle \\right) dt'.\n",
        "\\tag{5}\n",
        "$$\n",
        "\n",
        "La primera integral es la fase dinámica, que ocurriría incluso sin el efecto geométrico. La segunda integral es el ángulo de Hannay $\\Delta \\theta$:\n",
        "\n",
        "$$\n",
        "\\Delta \\theta = \\int_0^T \\dot{\\lambda} \\cdot \\left\\langle \\frac{\\partial \\theta}{\\partial \\lambda} \\right\\rangle dt,\n",
        "\\tag{6}\n",
        "$$\n",
        "\n",
        "donde $\\lambda = (\\lambda_1, \\lambda_2)$ y el punto denota el producto vectorial.\n",
        "\n",
        "Dado que los parámetros regresan a sus valores iniciales a lo largo de un circuito cerrado $C$ en el espacio de parámetros ($\\lambda(T) = \\lambda(0)$), podemos reescribir esto como una integral de línea independiente del tiempo:\n",
        "\n",
        "$$\n",
        "\\Delta \\theta = \\oint_C \\left\\langle \\frac{\\partial \\theta}{\\partial \\lambda} \\right\\rangle \\cdot d\\lambda.\n",
        "\\tag{7}\n",
        "$$\n",
        "\n",
        "Esta integral depende únicamente de la geometría del circuito $C$, no de la velocidad de recorrido, porque $I$ se conserva.\n",
        "\n",
        "A medida que los parámetros trazan un camino cerrado en el espacio $(\\lambda_1, \\lambda_2)$ y retornan a sus valores iniciales, la acción $I$ permanece constante, pero el ángulo $\\theta$ acumula una contribución extra, el ángulo de Hannay $\\Delta \\theta$.\n"
      ],
      "metadata": {
        "id": "SBrf1rTPyZi1"
      }
    },
    {
      "cell_type": "markdown",
      "source": [
        "### ***Representación de Curvatura e Integral de Superficie:***\n"
      ],
      "metadata": {
        "id": "TWiKuObvJGr0"
      }
    },
    {
      "cell_type": "markdown",
      "source": [
        "Para fines computacionales, especialmente en el espacio de dos parámetros, usamos el teorema de Stokes para convertir la integral de línea en una integral de superficie sobre un área $S$ delimitada por $C$:\n",
        "\n",
        "$$\n",
        "\\Delta \\theta = \\iint_S \\left( \\frac{\\partial A_2}{\\partial \\lambda_1} - \\frac{\\partial A_1}{\\partial \\lambda_2} \\right) d\\lambda_1 d\\lambda_2,\n",
        "\\tag{8}\n",
        "$$\n",
        "\n",
        "donde $A_1 = \\left( \\frac{\\partial \\theta}{\\partial \\lambda_1} \\right)$ y $A_2 = \\left( \\frac{\\partial \\theta}{\\partial \\lambda_2} \\right)$. Esta es la integral de la curvatura $\\Omega = \\nabla \\times A$.\n",
        "\n",
        "Para encontrar una expresión explícita para $\\Omega$, diferenciamos la conexión. En notación de formas diferenciales, sea $\\alpha = d\\theta$ (la 1-forma para las derivadas de parámetros). La derivada exterior es:\n",
        "\n",
        "$$\n",
        "d\\alpha = d(d\\theta) = \\frac{\\partial^2 \\theta}{\\partial \\lambda_i \\partial \\lambda_j} d\\lambda_i \\wedge d\\lambda_j.\n",
        "$$\n",
        "\n",
        "El promedio da la 2-forma:\n",
        "\n",
        "$$\n",
        "\\langle d\\alpha \\rangle = - \\left\\langle \\frac{\\partial I}{\\partial \\lambda_i} \\frac{\\partial \\theta}{\\partial \\lambda_j} - \\frac{\\partial I}{\\partial \\lambda_j} \\frac{\\partial \\theta}{\\partial \\lambda_i} \\right\\rangle d\\lambda_i \\wedge d\\lambda_j.\n",
        "$$\n",
        "\n",
        "Un cálculo detallado (usando el hecho de que $I$ y $\\theta$ están relacionados a través de la función generadora para la transformación canónica) nos da la curvatura 2-forma:\n",
        "\n",
        "$$\n",
        "\\Omega = \\langle d\\theta \\wedge dI \\rangle,\n",
        "$$\n",
        "\n",
        "hasta una convención de signo. Más precisamente, en varias derivaciones:\n",
        "\n",
        "$$\n",
        "\\Omega_{ij} = \\frac{\\partial}{\\partial I} \\left( \\frac{\\partial \\theta}{\\partial \\lambda_i} \\frac{\\partial I}{\\partial \\lambda_j} - \\frac{\\partial \\theta}{\\partial \\lambda_j} \\frac{\\partial I}{\\partial \\lambda_i} \\right).\n",
        "\\tag{9}\n",
        "$$\n",
        "\n",
        "Así, el ángulo de Hannay es:\n",
        "\n",
        "$$\n",
        "\\Delta \\theta = \\iint_S \\Omega dS = \\iint_S \\left\\langle \\frac{\\partial \\theta}{\\partial I} \\frac{\\partial \\theta}{\\partial \\lambda_1 \\lambda_2} \\right\\rangle d\\lambda_1 d\\lambda_2,\n",
        "\\tag{10}\n",
        "$$\n",
        "\n",
        "donde el Jacobiano $\\partial(\\theta, I)/\\partial(\\lambda_1, \\lambda_2)$ se promedia sobre el toro (el periódico en 1D). En el caso unidimensional, el \"torus\" es simplemente el círculo 1D parametrizado por $\\theta$, y el promedio se simplifica a $(1/2\\pi) \\int_0^{2\\pi} d\\theta$.\n",
        "\n",
        "\n"
      ],
      "metadata": {
        "id": "7xUVd-WoIvDV"
      }
    },
    {
      "cell_type": "markdown",
      "source": [
        "## **Derivación del Ángulo de Hannay No Adiabático**\n"
      ],
      "metadata": {
        "id": "iHJc57hIRnC9"
      }
    },
    {
      "cell_type": "markdown",
      "source": [
        "### ***Configuración y Sistema de Coordenadas:***"
      ],
      "metadata": {
        "id": "sWBQhcufY1gP"
      }
    },
    {
      "cell_type": "markdown",
      "source": [
        "Acogeremos las consideraciones del caso anterior, definiendo la variable de accion $I$ definida por la ecuacion (1) y la variable de angulo, siendo la conjugada de la variable de accion como se establece en las ecuaciones (2,3)\n",
        "\n",
        "La familia de contornos (toros 1D) en $t = 0$ es transportada por el flujo Hamiltoniano a nuevas posiciones en cada $t$, coincidiendo con los contornos de acción instantáneos $I(q, p; \\lambda(t)) = \\text{const}$. Esto define una evolución cíclica. Dado que el flujo es Hamiltoniano, el teorema de Liouville asegura que el área dentro de cada contorno es preservada, por lo que $I$ es exactamente invariante: $dI/dt = 0$.\n",
        "\n",
        "Un punto de fase en un contorno inicial es transportado a lo largo del flujo, y su ángulo $\\theta$ cambia. El desplazamiento total $\\Delta \\theta$ es el mismo para todos los puntos en el mismo contorno debido al proceso de transporte rígido.\n"
      ],
      "metadata": {
        "id": "3zGFJ066YtFo"
      }
    },
    {
      "cell_type": "markdown",
      "source": [
        "### ***Ecuación para la Tasa de Cambio del Ángulo:***"
      ],
      "metadata": {
        "id": "EmPe6m14aDnv"
      }
    },
    {
      "cell_type": "markdown",
      "source": [
        "\n",
        "\n",
        "La derivada temporal del ángulo para un punto de fase transportado se deriva de la regla de la cadena en las coordenadas dependientes de los parámetros:\n",
        "\n",
        "$$\n",
        "\\frac{d\\theta}{dt} = \\omega(\\theta, I, t) + \\frac{\\partial \\theta}{\\partial \\lambda} \\cdot \\frac{d\\lambda}{dt},\n",
        "\\tag{11}\n",
        "$$\n",
        "\n",
        "donde:\n",
        "\n",
        "- $\\omega(\\theta, I, t) = \\partial H(I, \\theta; \\lambda(t))/\\partial I$ es la frecuencia efectiva. En el límite adiabático, esto se reduce a la frecuencia instantánea $\\partial H(I; \\lambda)/\\partial I$, independiente de $\\theta$, pero en los casos no adiabáticos, el flujo de Hamilton introduce dependencia de $\\theta$ porque el movimiento cruza contornos instantáneos.\n",
        "- $\\partial \\theta/\\partial \\lambda$ es la derivada parcial de $\\theta(q, p; \\lambda)$ respecto a los parámetros para $(q, p)$ fijos.\n",
        "\n",
        "Esta ecuación se cumple porque la derivada temporal total incluye tanto la evolución dinámica bajo $H$ como la dependencia explícita de parámetros en el sistema de coordenadas.\n",
        "\n",
        "Integrando a lo largo del ciclo de tiempo $T$:\n",
        "\n",
        "$$\n",
        "\\Delta \\theta = \\int_0^T \\omega(\\theta, I, t) dt + \\int_0^T \\frac{\\partial \\theta}{\\partial \\lambda} \\cdot \\frac{d\\lambda}{dt} dt.\n",
        "\\tag{12}\n",
        "$$\n",
        "\n",
        "Ambos términos dependen del punto específico de fase (a través de $\\theta$), pero el desplazamiento total $\\Delta \\theta$ debe ser el mismo para todos los puntos en el contorno para que el desplazamiento esté bien definido.\n",
        "\n"
      ],
      "metadata": {
        "id": "0bnhNe21aB24"
      }
    },
    {
      "cell_type": "markdown",
      "source": [
        "### ***Promediado sobre el Contorno para Eliminar la Dependencia del Punto:***"
      ],
      "metadata": {
        "id": "g9H8m-aMcgq4"
      }
    },
    {
      "cell_type": "markdown",
      "source": [
        "\n",
        "\n",
        "Para hacer que $\\Delta \\theta$ sea independiente del contorno, promediamos sobre el contorno de acción utilizando la medida invariante:\n",
        "\n",
        "$$\n",
        "\\langle \\cdot \\rangle = \\int dq \\, dp \\, \\delta(I - I(q, p; \\lambda)) = \\frac{1}{2\\pi} \\int_0^{2\\pi} d\\theta,\n",
        "\\tag{13}\n",
        "$$\n",
        "\n",
        "donde la función delta restringe el contorno de constante $I$.\n",
        "\n",
        "Aplicando el promedio a la ecuación integrada:\n",
        "\n",
        "$$\n",
        "\\Delta \\theta = \\left\\langle \\int_0^T \\omega(\\theta, I, t) dt \\right\\rangle + \\left\\langle \\int_0^T \\frac{\\partial \\theta}{\\partial \\lambda} \\cdot \\frac{d\\lambda}{dt} dt \\right\\rangle.\n",
        "$$\n",
        "\n",
        "El promedio conmute con la integral de tiempo porque $I$ está fijo:\n",
        "\n",
        "$$\n",
        "\\Delta \\theta = \\int_0^T \\left\\langle \\omega(\\theta, I, t) \\right\\rangle dt + \\int_C \\left\\langle \\frac{\\partial \\theta}{\\partial \\lambda} \\right\\rangle \\cdot d\\lambda,\n",
        "\\tag{14}\n",
        "$$\n",
        "\n",
        "donde la segunda integral es ahora una integral de línea sobre el camino cerrado $C$ en el espacio de parámetros.\n",
        "\n",
        "\n",
        "En el caso 1D, la conexión es plana, pero la holonomía alrededor de los lazos no es cero si hay una singularidad \"monopolar\" en el espacio de parámetros.\n"
      ],
      "metadata": {
        "id": "Gx4Erg6ncYkP"
      }
    },
    {
      "cell_type": "markdown",
      "source": [
        "### ***Separación en Partes Dinámicas y Geométricas:***"
      ],
      "metadata": {
        "id": "lfkntko8htdk"
      }
    },
    {
      "cell_type": "markdown",
      "source": [
        "Definimos la parte dinámica como:\n",
        "\n",
        "$$\n",
        "\\Delta \\theta_d = \\int_0^T \\left\\langle \\omega(\\theta, I, t) \\right\\rangle dt,\n",
        "\\tag{15}\n",
        "$$\n",
        "\n",
        "lo que incorpora la frecuencia efectiva promedio a lo largo del contorno transportado en cada momento. En el límite adiabático, $\\omega$ se vuelve independiente de $\\theta$, por lo que $\\langle \\omega \\rangle = \\partial H(I; \\lambda)/\\partial I$, recuperando la fase dinámica estándar.\n",
        "\n",
        "La parte geométrica es:\n",
        "\n",
        "$$\n",
        "\\Delta \\theta_g = \\oint_C \\left\\langle \\frac{\\partial \\theta}{\\partial \\lambda} \\right\\rangle \\cdot d\\lambda,\n",
        "\\tag{16}\n",
        "$$\n",
        "\n",
        "lo cual es idéntico al ángulo de Hannay adiabático. Este término depende únicamente de la geometría del camino $C$ en el espacio de parámetros y es independiente de la velocidad de recorrido o el tiempo $T$, ya que es una holonomía de la conexión 1-forma $\\Delta = \\left\\langle \\partial \\theta/\\partial \\lambda \\right\\rangle$.\n",
        "\n",
        "Así, el desplazamiento total del ángulo no adiabático es:\n",
        "\n",
        "$$\n",
        "\\Delta \\theta = \\Delta \\theta_d + \\Delta \\theta_g,\n",
        "$$\n",
        "\n",
        "con $\\Delta \\theta_g$ inalterado con respecto al caso adiabático.\n"
      ],
      "metadata": {
        "id": "PxkEE0nFhkps"
      }
    },
    {
      "cell_type": "markdown",
      "source": [
        "### ***Generalización de Montgomery Usando Conexiones:***"
      ],
      "metadata": {
        "id": "J_ZF4KXriCtI"
      }
    },
    {
      "cell_type": "markdown",
      "source": [
        "\n",
        "\n",
        "El formalismo de Montgomery generaliza esto a sistemas no integrables [9], pero se aplica directamente al caso integrable 1D. Consideremos el espacio fase $P$ (aquí $\\mathbb{R}^2$) con la forma simplética $\\omega = dq \\wedge dp$, y el espacio de parámetros $M$ (aquí $\\mathbb{R}^2$ para $\\lambda_1, \\lambda_2$).\n",
        "\n",
        "La acción es una acción de círculo $G = S^1$ sobre $P \\times M$, con el momento dado por $J : P \\times M \\to \\mathbb{R}$, que está dado por $J = I$. La conexión de Hannay-Berry está definida en el haz $P \\times M \\to M$ como el levantamiento horizontal promedio:\n",
        "\n",
        "$$\n",
        "h \\cdot v = \\langle \\Omega \\cdot v \\rangle,\n",
        "$$\n",
        "\n",
        "donde $v \\in TM$, $\\Omega \\cdot v$ es el levantamiento, y $\\langle \\cdot \\rangle$ es el promedio sobre la órbita $S^1$ (equivalente al promedio sobre el contorno).\n",
        "\n",
        "La holonomía a lo largo de $C$ es $\\Delta \\theta_g = \\oint_C A \\cdot d\\lambda$, donde $A$ es la forma de conexión. En el caso no adiabático, el transporte paralelo a lo largo del flujo corresponde a los contornos transportados, y la holonomía geométrica permanece igual, ya que depende solo de la estructura del haz, no de la velocidad.\n",
        "\n",
        "Para extensiones no integrables, la conexión se define de manera similar utilizando la forma simplética para proyectar ortogonalmente, pero en 1D, se reduce a la derivada promedio.\n",
        "\n",
        "Esto confirma que incluso no adiabáticamente, mientras el ciclo regrese a los toros, $\\Delta \\theta$ es el ángulo de Hannay adiabático, mientras que $\\Delta \\theta_d$ incluye correcciones por mezclas de tasa finita a lo largo de los contornos.\n"
      ],
      "metadata": {
        "id": "v1iCUGqEh7Z6"
      }
    },
    {
      "cell_type": "markdown",
      "source": [
        "## **Algunas aplicaciones del Ángulo de Hannay (Propuestas de futuros trabajos)**\n",
        "\n",
        "\n",
        "1. **Péndulo de Foucault**: La precesión del plano de oscilación del péndulo de Foucault debido a la rotación de la Tierra es una demostración clásica del ángulo de Hannay, donde la latitud actúa como un parámetro que influye en la fase geométrica. Este efecto puede analizarse tanto en regímenes adiabáticos como no adiabáticos, con el ángulo cuantificando la holonomía de la fuerza de Coriolis [11].\n",
        "\n",
        "2. **Dinámica del Trompo Giratorio**: En el movimiento de un trompo simétrico pesado, el ángulo de Hannay describe el desplazamiento geométrico adicional en el rápido movimiento de precesión mientras varían los parámetros de nutación lenta, conectados con el conjunto lento del sistema [12].\n",
        "\n",
        "3. **Dinámica Magnética y Sistemas de Espín**: El ángulo de Hannay aparece en la dinámica clásica de espines o momentos magnéticos en campos magnéticos que varían lentamente, análogo a las fases de Berry en sistemas cuánticos de espines, con aplicaciones para entender la precesión de magnetización [13,14].\n",
        "\n",
        "4. **Rotadores y Dispositivos Mecánicos**: Para sistemas como rotadores o configuraciones mecánicas con cambios cíclicos de parámetros, el ángulo de Hannay proporciona holonomías medibles, con realizaciones experimentales en dispositivos diseñados para estudiar fases geométricas y curvaturas [15].\n"
      ],
      "metadata": {
        "id": "rXTBHevmzom1"
      }
    },
    {
      "cell_type": "markdown",
      "source": [
        "## **Conclusiones**\n",
        "\n",
        "En este trabajo se logró comprender tanto conceptualmente como teóricamente (al menos las bases) el ángulo de Hannay. Primero se entendió en su versión más sencilla, donde se utiliza la aproximación adiabática para abordar el problema. Posteriormente, se demostró que se llega a la misma expresión en el caso no adiabático, teniendo en cuenta ciertas condiciones.\n",
        "\n",
        "Asimismo, se dio un pequeño vistazo a las posibles aplicaciones (que podrían ser objeto de futuros trabajos) del ángulo de Hannay, las cuales son de gran utilidad en movimientos periódicos o casi periódicos, donde el estudio de los desfases es esencial.\n",
        "\n",
        "\n",
        "\n"
      ],
      "metadata": {
        "id": "aNjzkE9yzi_U"
      }
    },
    {
      "cell_type": "markdown",
      "source": [
        "## **Refrencias**\n",
        "\n",
        "- **[1]** Hannay, J. H. (1985). Angle variable holonomy in adiabatic excursion of an integrable Hamiltonian. Journal of Physics A: Mathematical and General, 18(2), 221.\n",
        "\n",
        "- **[2]** Berry, M. V. (1985). Classical adiabatic angles and quantal adiabatic phase. Journal of physics A: Mathematical and general, 18(1), 15.\n",
        "\n",
        "- **[4]** Shapere, A., & Wilczek, F. (Eds.). (1989). Geometric phases in physics (Vol. 5). World scientific.\n",
        "\n",
        "- **[5]** Frankel, T. (2011). The geometry of physics: an introduction. Cambridge university press.\n",
        "\n",
        "- **[6]** https://www.damtp.cam.ac.uk/user/tong/dynamics/dynhtml/S4.html\n",
        "\n",
        "\n",
        "- **[7]** Berry, M. V., & Hannay, J. H. (1988). Classical non-adiabatic angles. Journal of Physics A: Mathematical and General, 21(6), L325.\n",
        "\n",
        "- **[8]** Robbins, J. (2016). The Hannay angle, thirty years on. Journal of Physics A: Mathematical and Theoretical, 49(43), 431002.\n",
        "\n",
        "- **[9]** Montgomery, R. (1988). The connection whose holonomy is the classical adiabatic angles of Hannay and Berry and its generalization to the non-integrable case. Communications in mathematical physics, 120(2), 269-294.\n",
        "\n",
        "- **[10]** Andersson, S. B. (2005). Nonadiabatic Corrections to the Hannay--Berry Phase. SIAM Journal on Applied Mathematics, 66(1), 98-121.\n",
        "\n",
        "- **[11]** Fanchiotti, H., García Canal, C. A., Mayosky, M., Veiga, A., & Vento, V. (2022). Measuring the Hannay geometric phase. American Journal of Physics, 90(6), 430-435.\n",
        "\n",
        "- **[12]** Berry, M. V., & Shukla, P. (2010). Slow manifold and Hannay angle in the spinning top. European journal of physics, 32(1), 115.\n",
        "\n",
        "- **[13]** Rückriegel, A., & Duine, R. A. (2020). Hannay angles in magnetic dynamics. Annals of Physics, 412, 168010.\n",
        "\n",
        "- **[14]** Biswas, S. N., Soni, S. K., & Govdindarajan, T. R. (1990). Hannay angle for a classical spinning particle in a rotating magnetic field. Journal of Physics A: Mathematical and General, 23(1), L7.\n",
        "\n",
        "- **[15]** Gil, S. (2010). A mechanical device to study geometric phases and curvatures. American Journal of Physics, 78(4), 384-390.\n",
        "\n"
      ],
      "metadata": {
        "id": "r6EgMHWljOAg"
      }
    },
    {
      "cell_type": "code",
      "source": [],
      "metadata": {
        "id": "3ZxSbCdJzFnS"
      },
      "execution_count": null,
      "outputs": []
    }
  ]
}